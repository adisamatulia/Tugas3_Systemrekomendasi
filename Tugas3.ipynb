{
  "cells": [
    {
      "cell_type": "markdown",
      "metadata": {
        "id": "Oh8Cj_C18Q3U"
      },
      "source": [
        "# Content Based Filtering : Rekomendasi Studi Independen dan Magang Kampus Merdeka"
      ]
    },
    {
      "cell_type": "code",
      "execution_count": 22,
      "metadata": {
        "id": "MDcaSLwZ8Q3V",
        "outputId": "4cb8d985-b204-4863-fda7-4f9287180a20",
        "colab": {
          "base_uri": "https://localhost:8080/",
          "height": 206
        }
      },
      "outputs": [
        {
          "output_type": "execute_result",
          "data": {
            "text/plain": [
              "                     Nama Perusahaan  \\\n",
              "0                     Adis Amatulia    \n",
              "1         PT Orbit Ventura Indonesia   \n",
              "2  PT Hacktivate Teknologi Indonesia   \n",
              "3            PT Ruang Raya Indonesia   \n",
              "4       PT BISA ARTIFISIAL INDONESIA   \n",
              "\n",
              "                                              Alamat  \\\n",
              "0                                             Kendal   \n",
              "1  Veteran RI Building 15th Floor Unit Z15-002, P...   \n",
              "2  Gedung Aquarius Lt. 1&2, Jl. Sultan Iskandar M...   \n",
              "3  Jl. Dr. Saharjo No.161, Manggarai Selatan, Teb...   \n",
              "4                    JLN. IR H JUANDA NO. 84 BANDUNG   \n",
              "\n",
              "                                  Modul Pembelajaran  \n",
              "0  Text Mining,Grafika Komputer,Sistem Infomasi G...  \n",
              "1      Siklus Project Al,Sasaran Pengembangan Skill,  \n",
              "2  Memahami serta mengimplementasikan library hin...  \n",
              "3  Final Project,software engineering : menerapka...  \n",
              "4  Mengenal teknik dan langkah dalam manajemen pr...  "
            ],
            "text/html": [
              "\n",
              "  <div id=\"df-aa1fcd8d-3f27-4d76-9284-6eec7d1a42b2\">\n",
              "    <div class=\"colab-df-container\">\n",
              "      <div>\n",
              "<style scoped>\n",
              "    .dataframe tbody tr th:only-of-type {\n",
              "        vertical-align: middle;\n",
              "    }\n",
              "\n",
              "    .dataframe tbody tr th {\n",
              "        vertical-align: top;\n",
              "    }\n",
              "\n",
              "    .dataframe thead th {\n",
              "        text-align: right;\n",
              "    }\n",
              "</style>\n",
              "<table border=\"1\" class=\"dataframe\">\n",
              "  <thead>\n",
              "    <tr style=\"text-align: right;\">\n",
              "      <th></th>\n",
              "      <th>Nama Perusahaan</th>\n",
              "      <th>Alamat</th>\n",
              "      <th>Modul Pembelajaran</th>\n",
              "    </tr>\n",
              "  </thead>\n",
              "  <tbody>\n",
              "    <tr>\n",
              "      <th>0</th>\n",
              "      <td>Adis Amatulia</td>\n",
              "      <td>Kendal</td>\n",
              "      <td>Text Mining,Grafika Komputer,Sistem Infomasi G...</td>\n",
              "    </tr>\n",
              "    <tr>\n",
              "      <th>1</th>\n",
              "      <td>PT Orbit Ventura Indonesia</td>\n",
              "      <td>Veteran RI Building 15th Floor Unit Z15-002, P...</td>\n",
              "      <td>Siklus Project Al,Sasaran Pengembangan Skill,</td>\n",
              "    </tr>\n",
              "    <tr>\n",
              "      <th>2</th>\n",
              "      <td>PT Hacktivate Teknologi Indonesia</td>\n",
              "      <td>Gedung Aquarius Lt. 1&amp;2, Jl. Sultan Iskandar M...</td>\n",
              "      <td>Memahami serta mengimplementasikan library hin...</td>\n",
              "    </tr>\n",
              "    <tr>\n",
              "      <th>3</th>\n",
              "      <td>PT Ruang Raya Indonesia</td>\n",
              "      <td>Jl. Dr. Saharjo No.161, Manggarai Selatan, Teb...</td>\n",
              "      <td>Final Project,software engineering : menerapka...</td>\n",
              "    </tr>\n",
              "    <tr>\n",
              "      <th>4</th>\n",
              "      <td>PT BISA ARTIFISIAL INDONESIA</td>\n",
              "      <td>JLN. IR H JUANDA NO. 84 BANDUNG</td>\n",
              "      <td>Mengenal teknik dan langkah dalam manajemen pr...</td>\n",
              "    </tr>\n",
              "  </tbody>\n",
              "</table>\n",
              "</div>\n",
              "      <button class=\"colab-df-convert\" onclick=\"convertToInteractive('df-aa1fcd8d-3f27-4d76-9284-6eec7d1a42b2')\"\n",
              "              title=\"Convert this dataframe to an interactive table.\"\n",
              "              style=\"display:none;\">\n",
              "        \n",
              "  <svg xmlns=\"http://www.w3.org/2000/svg\" height=\"24px\"viewBox=\"0 0 24 24\"\n",
              "       width=\"24px\">\n",
              "    <path d=\"M0 0h24v24H0V0z\" fill=\"none\"/>\n",
              "    <path d=\"M18.56 5.44l.94 2.06.94-2.06 2.06-.94-2.06-.94-.94-2.06-.94 2.06-2.06.94zm-11 1L8.5 8.5l.94-2.06 2.06-.94-2.06-.94L8.5 2.5l-.94 2.06-2.06.94zm10 10l.94 2.06.94-2.06 2.06-.94-2.06-.94-.94-2.06-.94 2.06-2.06.94z\"/><path d=\"M17.41 7.96l-1.37-1.37c-.4-.4-.92-.59-1.43-.59-.52 0-1.04.2-1.43.59L10.3 9.45l-7.72 7.72c-.78.78-.78 2.05 0 2.83L4 21.41c.39.39.9.59 1.41.59.51 0 1.02-.2 1.41-.59l7.78-7.78 2.81-2.81c.8-.78.8-2.07 0-2.86zM5.41 20L4 18.59l7.72-7.72 1.47 1.35L5.41 20z\"/>\n",
              "  </svg>\n",
              "      </button>\n",
              "      \n",
              "  <style>\n",
              "    .colab-df-container {\n",
              "      display:flex;\n",
              "      flex-wrap:wrap;\n",
              "      gap: 12px;\n",
              "    }\n",
              "\n",
              "    .colab-df-convert {\n",
              "      background-color: #E8F0FE;\n",
              "      border: none;\n",
              "      border-radius: 50%;\n",
              "      cursor: pointer;\n",
              "      display: none;\n",
              "      fill: #1967D2;\n",
              "      height: 32px;\n",
              "      padding: 0 0 0 0;\n",
              "      width: 32px;\n",
              "    }\n",
              "\n",
              "    .colab-df-convert:hover {\n",
              "      background-color: #E2EBFA;\n",
              "      box-shadow: 0px 1px 2px rgba(60, 64, 67, 0.3), 0px 1px 3px 1px rgba(60, 64, 67, 0.15);\n",
              "      fill: #174EA6;\n",
              "    }\n",
              "\n",
              "    [theme=dark] .colab-df-convert {\n",
              "      background-color: #3B4455;\n",
              "      fill: #D2E3FC;\n",
              "    }\n",
              "\n",
              "    [theme=dark] .colab-df-convert:hover {\n",
              "      background-color: #434B5C;\n",
              "      box-shadow: 0px 1px 3px 1px rgba(0, 0, 0, 0.15);\n",
              "      filter: drop-shadow(0px 1px 2px rgba(0, 0, 0, 0.3));\n",
              "      fill: #FFFFFF;\n",
              "    }\n",
              "  </style>\n",
              "\n",
              "      <script>\n",
              "        const buttonEl =\n",
              "          document.querySelector('#df-aa1fcd8d-3f27-4d76-9284-6eec7d1a42b2 button.colab-df-convert');\n",
              "        buttonEl.style.display =\n",
              "          google.colab.kernel.accessAllowed ? 'block' : 'none';\n",
              "\n",
              "        async function convertToInteractive(key) {\n",
              "          const element = document.querySelector('#df-aa1fcd8d-3f27-4d76-9284-6eec7d1a42b2');\n",
              "          const dataTable =\n",
              "            await google.colab.kernel.invokeFunction('convertToInteractive',\n",
              "                                                     [key], {});\n",
              "          if (!dataTable) return;\n",
              "\n",
              "          const docLinkHtml = 'Like what you see? Visit the ' +\n",
              "            '<a target=\"_blank\" href=https://colab.research.google.com/notebooks/data_table.ipynb>data table notebook</a>'\n",
              "            + ' to learn more about interactive tables.';\n",
              "          element.innerHTML = '';\n",
              "          dataTable['output_type'] = 'display_data';\n",
              "          await google.colab.output.renderOutput(dataTable, element);\n",
              "          const docLink = document.createElement('div');\n",
              "          docLink.innerHTML = docLinkHtml;\n",
              "          element.appendChild(docLink);\n",
              "        }\n",
              "      </script>\n",
              "    </div>\n",
              "  </div>\n",
              "  "
            ]
          },
          "metadata": {},
          "execution_count": 22
        }
      ],
      "source": [
        "import pandas as pd\n",
        "import numpy as np\n",
        "from sklearn.metrics.pairwise import cosine_similarity\n",
        "from sklearn.feature_extraction.text import TfidfVectorizer\n",
        "from nltk.corpus import stopwords\n",
        "import re\n",
        "import random\n",
        "\n",
        "df = pd.read_csv(\"https://raw.githubusercontent.com/adisamatulia/Tugas3_Systemrekomendasi/main/Tugas3_System_Rekomendasi%20-%20Sheet1.csv\")\n",
        "df.head()"
      ]
    },
    {
      "cell_type": "markdown",
      "metadata": {
        "id": "UhzUu1XS8Q3X"
      },
      "source": [
        "## 1. Ikhtisar"
      ]
    },
    {
      "cell_type": "code",
      "execution_count": 2,
      "metadata": {
        "id": "sW-j8yXE8Q3X",
        "outputId": "6f9659a1-5fcd-47de-82aa-5a0eef60449a",
        "colab": {
          "base_uri": "https://localhost:8080/",
          "height": 175
        }
      },
      "outputs": [
        {
          "output_type": "execute_result",
          "data": {
            "text/plain": [
              "       Nama Perusahaan  Alamat  \\\n",
              "count               12      12   \n",
              "unique              12      12   \n",
              "top     Adis Amatulia   Kendal   \n",
              "freq                 1       1   \n",
              "\n",
              "                                       Modul Pembelajaran  \n",
              "count                                                  12  \n",
              "unique                                                 12  \n",
              "top     Text Mining,Grafika Komputer,Sistem Infomasi G...  \n",
              "freq                                                    1  "
            ],
            "text/html": [
              "\n",
              "  <div id=\"df-76a0d5c7-4b51-42a7-97ed-7fc2d789705e\">\n",
              "    <div class=\"colab-df-container\">\n",
              "      <div>\n",
              "<style scoped>\n",
              "    .dataframe tbody tr th:only-of-type {\n",
              "        vertical-align: middle;\n",
              "    }\n",
              "\n",
              "    .dataframe tbody tr th {\n",
              "        vertical-align: top;\n",
              "    }\n",
              "\n",
              "    .dataframe thead th {\n",
              "        text-align: right;\n",
              "    }\n",
              "</style>\n",
              "<table border=\"1\" class=\"dataframe\">\n",
              "  <thead>\n",
              "    <tr style=\"text-align: right;\">\n",
              "      <th></th>\n",
              "      <th>Nama Perusahaan</th>\n",
              "      <th>Alamat</th>\n",
              "      <th>Modul Pembelajaran</th>\n",
              "    </tr>\n",
              "  </thead>\n",
              "  <tbody>\n",
              "    <tr>\n",
              "      <th>count</th>\n",
              "      <td>12</td>\n",
              "      <td>12</td>\n",
              "      <td>12</td>\n",
              "    </tr>\n",
              "    <tr>\n",
              "      <th>unique</th>\n",
              "      <td>12</td>\n",
              "      <td>12</td>\n",
              "      <td>12</td>\n",
              "    </tr>\n",
              "    <tr>\n",
              "      <th>top</th>\n",
              "      <td>Adis Amatulia</td>\n",
              "      <td>Kendal</td>\n",
              "      <td>Text Mining,Grafika Komputer,Sistem Infomasi G...</td>\n",
              "    </tr>\n",
              "    <tr>\n",
              "      <th>freq</th>\n",
              "      <td>1</td>\n",
              "      <td>1</td>\n",
              "      <td>1</td>\n",
              "    </tr>\n",
              "  </tbody>\n",
              "</table>\n",
              "</div>\n",
              "      <button class=\"colab-df-convert\" onclick=\"convertToInteractive('df-76a0d5c7-4b51-42a7-97ed-7fc2d789705e')\"\n",
              "              title=\"Convert this dataframe to an interactive table.\"\n",
              "              style=\"display:none;\">\n",
              "        \n",
              "  <svg xmlns=\"http://www.w3.org/2000/svg\" height=\"24px\"viewBox=\"0 0 24 24\"\n",
              "       width=\"24px\">\n",
              "    <path d=\"M0 0h24v24H0V0z\" fill=\"none\"/>\n",
              "    <path d=\"M18.56 5.44l.94 2.06.94-2.06 2.06-.94-2.06-.94-.94-2.06-.94 2.06-2.06.94zm-11 1L8.5 8.5l.94-2.06 2.06-.94-2.06-.94L8.5 2.5l-.94 2.06-2.06.94zm10 10l.94 2.06.94-2.06 2.06-.94-2.06-.94-.94-2.06-.94 2.06-2.06.94z\"/><path d=\"M17.41 7.96l-1.37-1.37c-.4-.4-.92-.59-1.43-.59-.52 0-1.04.2-1.43.59L10.3 9.45l-7.72 7.72c-.78.78-.78 2.05 0 2.83L4 21.41c.39.39.9.59 1.41.59.51 0 1.02-.2 1.41-.59l7.78-7.78 2.81-2.81c.8-.78.8-2.07 0-2.86zM5.41 20L4 18.59l7.72-7.72 1.47 1.35L5.41 20z\"/>\n",
              "  </svg>\n",
              "      </button>\n",
              "      \n",
              "  <style>\n",
              "    .colab-df-container {\n",
              "      display:flex;\n",
              "      flex-wrap:wrap;\n",
              "      gap: 12px;\n",
              "    }\n",
              "\n",
              "    .colab-df-convert {\n",
              "      background-color: #E8F0FE;\n",
              "      border: none;\n",
              "      border-radius: 50%;\n",
              "      cursor: pointer;\n",
              "      display: none;\n",
              "      fill: #1967D2;\n",
              "      height: 32px;\n",
              "      padding: 0 0 0 0;\n",
              "      width: 32px;\n",
              "    }\n",
              "\n",
              "    .colab-df-convert:hover {\n",
              "      background-color: #E2EBFA;\n",
              "      box-shadow: 0px 1px 2px rgba(60, 64, 67, 0.3), 0px 1px 3px 1px rgba(60, 64, 67, 0.15);\n",
              "      fill: #174EA6;\n",
              "    }\n",
              "\n",
              "    [theme=dark] .colab-df-convert {\n",
              "      background-color: #3B4455;\n",
              "      fill: #D2E3FC;\n",
              "    }\n",
              "\n",
              "    [theme=dark] .colab-df-convert:hover {\n",
              "      background-color: #434B5C;\n",
              "      box-shadow: 0px 1px 3px 1px rgba(0, 0, 0, 0.15);\n",
              "      filter: drop-shadow(0px 1px 2px rgba(0, 0, 0, 0.3));\n",
              "      fill: #FFFFFF;\n",
              "    }\n",
              "  </style>\n",
              "\n",
              "      <script>\n",
              "        const buttonEl =\n",
              "          document.querySelector('#df-76a0d5c7-4b51-42a7-97ed-7fc2d789705e button.colab-df-convert');\n",
              "        buttonEl.style.display =\n",
              "          google.colab.kernel.accessAllowed ? 'block' : 'none';\n",
              "\n",
              "        async function convertToInteractive(key) {\n",
              "          const element = document.querySelector('#df-76a0d5c7-4b51-42a7-97ed-7fc2d789705e');\n",
              "          const dataTable =\n",
              "            await google.colab.kernel.invokeFunction('convertToInteractive',\n",
              "                                                     [key], {});\n",
              "          if (!dataTable) return;\n",
              "\n",
              "          const docLinkHtml = 'Like what you see? Visit the ' +\n",
              "            '<a target=\"_blank\" href=https://colab.research.google.com/notebooks/data_table.ipynb>data table notebook</a>'\n",
              "            + ' to learn more about interactive tables.';\n",
              "          element.innerHTML = '';\n",
              "          dataTable['output_type'] = 'display_data';\n",
              "          await google.colab.output.renderOutput(dataTable, element);\n",
              "          const docLink = document.createElement('div');\n",
              "          docLink.innerHTML = docLinkHtml;\n",
              "          element.appendChild(docLink);\n",
              "        }\n",
              "      </script>\n",
              "    </div>\n",
              "  </div>\n",
              "  "
            ]
          },
          "metadata": {},
          "execution_count": 2
        }
      ],
      "source": [
        "df.describe()"
      ]
    },
    {
      "cell_type": "code",
      "execution_count": 3,
      "metadata": {
        "id": "rMTpmWFP8Q3X",
        "outputId": "f5aa2bf0-8c9a-4537-adbc-552959109eac",
        "colab": {
          "base_uri": "https://localhost:8080/"
        }
      },
      "outputs": [
        {
          "output_type": "stream",
          "name": "stdout",
          "text": [
            "<class 'pandas.core.frame.DataFrame'>\n",
            "RangeIndex: 12 entries, 0 to 11\n",
            "Data columns (total 3 columns):\n",
            " #   Column              Non-Null Count  Dtype \n",
            "---  ------              --------------  ----- \n",
            " 0   Nama Perusahaan     12 non-null     object\n",
            " 1   Alamat              12 non-null     object\n",
            " 2   Modul Pembelajaran  12 non-null     object\n",
            "dtypes: object(3)\n",
            "memory usage: 416.0+ bytes\n"
          ]
        }
      ],
      "source": [
        "df.info()"
      ]
    },
    {
      "cell_type": "markdown",
      "metadata": {
        "id": "oQiUsqXE8Q3Y"
      },
      "source": [
        "## 2. Modul Pembelajaran (Sebelum Preprocessing)"
      ]
    },
    {
      "cell_type": "code",
      "execution_count": 4,
      "metadata": {
        "id": "s3N4Ps8r8Q3Y"
      },
      "outputs": [],
      "source": [
        "def print_description(index):\n",
        "    example = df[df.index == index][['Modul Pembelajaran', 'Nama Perusahaan','Alamat']].values[0]\n",
        "    if len(example) > 0:\n",
        "        print(example[0])\n",
        "        print('Nama Perusahaan :', example[1])\n",
        "        print('Alamat:', example[2])"
      ]
    },
    {
      "cell_type": "code",
      "execution_count": 5,
      "metadata": {
        "id": "a7xiDE-R8Q3Y",
        "outputId": "4c0d5247-4f21-4f53-b364-5238356f3864",
        "colab": {
          "base_uri": "https://localhost:8080/"
        }
      },
      "outputs": [
        {
          "output_type": "stream",
          "name": "stdout",
          "text": [
            "Text Mining,Grafika Komputer,Sistem Infomasi Geografis,Statistika,Web Servis \n",
            "Nama Perusahaan : Adis Amatulia \n",
            "Alamat: Kendal\n"
          ]
        }
      ],
      "source": [
        "print_description(0)"
      ]
    },
    {
      "cell_type": "code",
      "execution_count": 30,
      "metadata": {
        "id": "f04nqInU8Q3Y",
        "outputId": "fb2f0caf-e61d-431a-b298-616263da2fac",
        "colab": {
          "base_uri": "https://localhost:8080/"
        }
      },
      "outputs": [
        {
          "output_type": "stream",
          "name": "stdout",
          "text": [
            "Mengenal teknik dan langkah dalam manajemen proyek, mengenal teknik dan langkah dalam manajemen proyek perangkat lunak,Mampu mengenal beragam proyek kecerdasan artifisial, mengenal industri AI,Mampu mengenal cara membuat digital startup dan mengurus aspek legal perusahaan\n",
            "Nama Perusahaan : PT BISA ARTIFISIAL INDONESIA\n",
            "Alamat: JLN. IR H JUANDA NO. 84 BANDUNG\n"
          ]
        }
      ],
      "source": [
        "print_description(4)"
      ]
    },
    {
      "cell_type": "code",
      "execution_count": 31,
      "metadata": {
        "id": "NeI7LmS38Q3Z",
        "outputId": "47e6b734-a365-4512-8df4-1b72a6552863",
        "colab": {
          "base_uri": "https://localhost:8080/"
        }
      },
      "outputs": [
        {
          "output_type": "stream",
          "name": "stdout",
          "text": [
            "Mampu menerapkan proses desain ke bentuk engineering desain 3D dan drafting sebelum manufaktur,Peserta magang diharapkan dapat melakukan proses desain keteknikan mulai dari merumuskan masalah, menyusun solusi terkait permasalahan teknis, dan menghasilkan desain sistem dengan ide-ide baru di bidang keteknikan.\n",
            "Nama Perusahaan : PT Inamas Sintesis Teknologi\n",
            "Alamat: Jl. Werkudara 4, Kel. Wirobrajan, Kec. Wirobrajan, Yogyakarta, D.I.Yogyakarta 55252\n"
          ]
        }
      ],
      "source": [
        "print_description(11)"
      ]
    },
    {
      "cell_type": "markdown",
      "metadata": {
        "id": "IJQYFEWH8Q3Z"
      },
      "source": [
        "## 3. Text Preprocessing"
      ]
    },
    {
      "cell_type": "code",
      "execution_count": 32,
      "metadata": {
        "id": "fHoAyS_p8Q3Z",
        "colab": {
          "base_uri": "https://localhost:8080/"
        },
        "outputId": "3c173d02-7f34-4313-d1a1-b03dc4754aa8"
      },
      "outputs": [
        {
          "output_type": "stream",
          "name": "stderr",
          "text": [
            "[nltk_data] Downloading package stopwords to /root/nltk_data...\n",
            "[nltk_data]   Package stopwords is already up-to-date!\n"
          ]
        }
      ],
      "source": [
        "import nltk\n",
        "nltk.download('stopwords')\n",
        "clean_spcl = re.compile('[/(){}\\[\\]\\|@,;]')\n",
        "clean_symbol = re.compile('[^0-9a-z #+_]')\n",
        "#stopworda = set(stopwords.words('english'))\n",
        "\n",
        "def clean_text(text):\n",
        "    \"\"\"\n",
        "        text: a string\n",
        "        \n",
        "        return: modified initial string\n",
        "    \"\"\"\n",
        "    text = text.lower() # lowercase text\n",
        "    text = clean_spcl.sub(' ', text)\n",
        "    text = clean_symbol.sub('', text)\n",
        "    #text = ' '.join(word for word in text.split() if word not in stopworda) # hapus stopword dari kolom deskripsi\n",
        "    return text\n",
        "    \n",
        "df['modulpembelajaran_clean'] = df['Modul Pembelajaran'].apply(clean_text)"
      ]
    },
    {
      "cell_type": "code",
      "execution_count": 33,
      "metadata": {
        "id": "55AYPffg8Q3a",
        "outputId": "e42ebe57-22aa-40a0-8d2b-64989d6ea75e",
        "colab": {
          "base_uri": "https://localhost:8080/",
          "height": 302
        }
      },
      "outputs": [
        {
          "output_type": "execute_result",
          "data": {
            "text/plain": [
              "                     Nama Perusahaan  \\\n",
              "0                     Adis Amatulia    \n",
              "1         PT Orbit Ventura Indonesia   \n",
              "2  PT Hacktivate Teknologi Indonesia   \n",
              "3            PT Ruang Raya Indonesia   \n",
              "4       PT BISA ARTIFISIAL INDONESIA   \n",
              "\n",
              "                                              Alamat  \\\n",
              "0                                             Kendal   \n",
              "1  Veteran RI Building 15th Floor Unit Z15-002, P...   \n",
              "2  Gedung Aquarius Lt. 1&2, Jl. Sultan Iskandar M...   \n",
              "3  Jl. Dr. Saharjo No.161, Manggarai Selatan, Teb...   \n",
              "4                    JLN. IR H JUANDA NO. 84 BANDUNG   \n",
              "\n",
              "                                  Modul Pembelajaran  \\\n",
              "0  Text Mining,Grafika Komputer,Sistem Infomasi G...   \n",
              "1      Siklus Project Al,Sasaran Pengembangan Skill,   \n",
              "2  Memahami serta mengimplementasikan library hin...   \n",
              "3  Final Project,software engineering : menerapka...   \n",
              "4  Mengenal teknik dan langkah dalam manajemen pr...   \n",
              "\n",
              "                             modulpembelajaran_clean  \n",
              "0  text mining grafika komputer sistem infomasi g...  \n",
              "1      siklus project al sasaran pengembangan skill   \n",
              "2  memahami serta mengimplementasikan library hin...  \n",
              "3  final project software engineering  menerapkan...  \n",
              "4  mengenal teknik dan langkah dalam manajemen pr...  "
            ],
            "text/html": [
              "\n",
              "  <div id=\"df-666a2773-dc99-4d51-8753-71e70fe63f3d\">\n",
              "    <div class=\"colab-df-container\">\n",
              "      <div>\n",
              "<style scoped>\n",
              "    .dataframe tbody tr th:only-of-type {\n",
              "        vertical-align: middle;\n",
              "    }\n",
              "\n",
              "    .dataframe tbody tr th {\n",
              "        vertical-align: top;\n",
              "    }\n",
              "\n",
              "    .dataframe thead th {\n",
              "        text-align: right;\n",
              "    }\n",
              "</style>\n",
              "<table border=\"1\" class=\"dataframe\">\n",
              "  <thead>\n",
              "    <tr style=\"text-align: right;\">\n",
              "      <th></th>\n",
              "      <th>Nama Perusahaan</th>\n",
              "      <th>Alamat</th>\n",
              "      <th>Modul Pembelajaran</th>\n",
              "      <th>modulpembelajaran_clean</th>\n",
              "    </tr>\n",
              "  </thead>\n",
              "  <tbody>\n",
              "    <tr>\n",
              "      <th>0</th>\n",
              "      <td>Adis Amatulia</td>\n",
              "      <td>Kendal</td>\n",
              "      <td>Text Mining,Grafika Komputer,Sistem Infomasi G...</td>\n",
              "      <td>text mining grafika komputer sistem infomasi g...</td>\n",
              "    </tr>\n",
              "    <tr>\n",
              "      <th>1</th>\n",
              "      <td>PT Orbit Ventura Indonesia</td>\n",
              "      <td>Veteran RI Building 15th Floor Unit Z15-002, P...</td>\n",
              "      <td>Siklus Project Al,Sasaran Pengembangan Skill,</td>\n",
              "      <td>siklus project al sasaran pengembangan skill</td>\n",
              "    </tr>\n",
              "    <tr>\n",
              "      <th>2</th>\n",
              "      <td>PT Hacktivate Teknologi Indonesia</td>\n",
              "      <td>Gedung Aquarius Lt. 1&amp;2, Jl. Sultan Iskandar M...</td>\n",
              "      <td>Memahami serta mengimplementasikan library hin...</td>\n",
              "      <td>memahami serta mengimplementasikan library hin...</td>\n",
              "    </tr>\n",
              "    <tr>\n",
              "      <th>3</th>\n",
              "      <td>PT Ruang Raya Indonesia</td>\n",
              "      <td>Jl. Dr. Saharjo No.161, Manggarai Selatan, Teb...</td>\n",
              "      <td>Final Project,software engineering : menerapka...</td>\n",
              "      <td>final project software engineering  menerapkan...</td>\n",
              "    </tr>\n",
              "    <tr>\n",
              "      <th>4</th>\n",
              "      <td>PT BISA ARTIFISIAL INDONESIA</td>\n",
              "      <td>JLN. IR H JUANDA NO. 84 BANDUNG</td>\n",
              "      <td>Mengenal teknik dan langkah dalam manajemen pr...</td>\n",
              "      <td>mengenal teknik dan langkah dalam manajemen pr...</td>\n",
              "    </tr>\n",
              "  </tbody>\n",
              "</table>\n",
              "</div>\n",
              "      <button class=\"colab-df-convert\" onclick=\"convertToInteractive('df-666a2773-dc99-4d51-8753-71e70fe63f3d')\"\n",
              "              title=\"Convert this dataframe to an interactive table.\"\n",
              "              style=\"display:none;\">\n",
              "        \n",
              "  <svg xmlns=\"http://www.w3.org/2000/svg\" height=\"24px\"viewBox=\"0 0 24 24\"\n",
              "       width=\"24px\">\n",
              "    <path d=\"M0 0h24v24H0V0z\" fill=\"none\"/>\n",
              "    <path d=\"M18.56 5.44l.94 2.06.94-2.06 2.06-.94-2.06-.94-.94-2.06-.94 2.06-2.06.94zm-11 1L8.5 8.5l.94-2.06 2.06-.94-2.06-.94L8.5 2.5l-.94 2.06-2.06.94zm10 10l.94 2.06.94-2.06 2.06-.94-2.06-.94-.94-2.06-.94 2.06-2.06.94z\"/><path d=\"M17.41 7.96l-1.37-1.37c-.4-.4-.92-.59-1.43-.59-.52 0-1.04.2-1.43.59L10.3 9.45l-7.72 7.72c-.78.78-.78 2.05 0 2.83L4 21.41c.39.39.9.59 1.41.59.51 0 1.02-.2 1.41-.59l7.78-7.78 2.81-2.81c.8-.78.8-2.07 0-2.86zM5.41 20L4 18.59l7.72-7.72 1.47 1.35L5.41 20z\"/>\n",
              "  </svg>\n",
              "      </button>\n",
              "      \n",
              "  <style>\n",
              "    .colab-df-container {\n",
              "      display:flex;\n",
              "      flex-wrap:wrap;\n",
              "      gap: 12px;\n",
              "    }\n",
              "\n",
              "    .colab-df-convert {\n",
              "      background-color: #E8F0FE;\n",
              "      border: none;\n",
              "      border-radius: 50%;\n",
              "      cursor: pointer;\n",
              "      display: none;\n",
              "      fill: #1967D2;\n",
              "      height: 32px;\n",
              "      padding: 0 0 0 0;\n",
              "      width: 32px;\n",
              "    }\n",
              "\n",
              "    .colab-df-convert:hover {\n",
              "      background-color: #E2EBFA;\n",
              "      box-shadow: 0px 1px 2px rgba(60, 64, 67, 0.3), 0px 1px 3px 1px rgba(60, 64, 67, 0.15);\n",
              "      fill: #174EA6;\n",
              "    }\n",
              "\n",
              "    [theme=dark] .colab-df-convert {\n",
              "      background-color: #3B4455;\n",
              "      fill: #D2E3FC;\n",
              "    }\n",
              "\n",
              "    [theme=dark] .colab-df-convert:hover {\n",
              "      background-color: #434B5C;\n",
              "      box-shadow: 0px 1px 3px 1px rgba(0, 0, 0, 0.15);\n",
              "      filter: drop-shadow(0px 1px 2px rgba(0, 0, 0, 0.3));\n",
              "      fill: #FFFFFF;\n",
              "    }\n",
              "  </style>\n",
              "\n",
              "      <script>\n",
              "        const buttonEl =\n",
              "          document.querySelector('#df-666a2773-dc99-4d51-8753-71e70fe63f3d button.colab-df-convert');\n",
              "        buttonEl.style.display =\n",
              "          google.colab.kernel.accessAllowed ? 'block' : 'none';\n",
              "\n",
              "        async function convertToInteractive(key) {\n",
              "          const element = document.querySelector('#df-666a2773-dc99-4d51-8753-71e70fe63f3d');\n",
              "          const dataTable =\n",
              "            await google.colab.kernel.invokeFunction('convertToInteractive',\n",
              "                                                     [key], {});\n",
              "          if (!dataTable) return;\n",
              "\n",
              "          const docLinkHtml = 'Like what you see? Visit the ' +\n",
              "            '<a target=\"_blank\" href=https://colab.research.google.com/notebooks/data_table.ipynb>data table notebook</a>'\n",
              "            + ' to learn more about interactive tables.';\n",
              "          element.innerHTML = '';\n",
              "          dataTable['output_type'] = 'display_data';\n",
              "          await google.colab.output.renderOutput(dataTable, element);\n",
              "          const docLink = document.createElement('div');\n",
              "          docLink.innerHTML = docLinkHtml;\n",
              "          element.appendChild(docLink);\n",
              "        }\n",
              "      </script>\n",
              "    </div>\n",
              "  </div>\n",
              "  "
            ]
          },
          "metadata": {},
          "execution_count": 33
        }
      ],
      "source": [
        "df.head()"
      ]
    },
    {
      "cell_type": "markdown",
      "metadata": {
        "id": "V6KVxT2Y8Q3a"
      },
      "source": [
        "## 4. Modul Pembelajaran (Setelah Preprocessing)"
      ]
    },
    {
      "cell_type": "code",
      "execution_count": 34,
      "metadata": {
        "id": "0d1yv9Fc8Q3a"
      },
      "outputs": [],
      "source": [
        "# Deskripsi kedua (Setelah preprocessing)\n",
        "def print_description_clean(index):\n",
        "    example = df[df.index == index][['modulpembelajaran_clean', 'Nama Perusahaan','Alamat']].values[0]\n",
        "    if len(example) > 0:\n",
        "        print(example[0])\n",
        "        print('Nama Perusahaan :', example[1])\n",
        "        print('Alamat:', example[2])"
      ]
    },
    {
      "cell_type": "code",
      "execution_count": 35,
      "metadata": {
        "id": "uImH4dZD8Q3a",
        "outputId": "2b4bdce4-3e16-4d13-a48e-50f982eac169",
        "colab": {
          "base_uri": "https://localhost:8080/"
        }
      },
      "outputs": [
        {
          "output_type": "stream",
          "name": "stdout",
          "text": [
            "siklus project al sasaran pengembangan skill \n",
            "Nama Perusahaan : PT Orbit Ventura Indonesia\n",
            "Alamat: Veteran RI Building 15th Floor Unit Z15-002, Plaza Semanggi Jl.Jend.Sudirman Kav. 50, Jakarta Indonesia - 12930\n"
          ]
        }
      ],
      "source": [
        "print_description_clean(1)"
      ]
    },
    {
      "cell_type": "code",
      "execution_count": 36,
      "metadata": {
        "id": "UROrAO918Q3b",
        "outputId": "d6a76587-6afe-421c-c753-03f4a4a2e8f1",
        "colab": {
          "base_uri": "https://localhost:8080/"
        }
      },
      "outputs": [
        {
          "output_type": "stream",
          "name": "stdout",
          "text": [
            "systems analysis and design communication skills team work time management software engineering\n",
            "Nama Perusahaan : PT. IlmuKomputerCom Braindevs Sistema\n",
            "Alamat: Jl. Gatot Subroto Kav. 71-73 Pancoran Jakarta Selatan 12870\n"
          ]
        }
      ],
      "source": [
        "print_description_clean(6)"
      ]
    },
    {
      "cell_type": "code",
      "execution_count": 37,
      "metadata": {
        "id": "ttgbNz_d8Q3b",
        "outputId": "0c01a029-8e77-4abc-d503-d8a5a74412e9",
        "colab": {
          "base_uri": "https://localhost:8080/"
        }
      },
      "outputs": [
        {
          "output_type": "stream",
          "name": "stdout",
          "text": [
            "Mampu menggunakan metode SDLC,peserta mempelajari metode SDLC dengan cara mencari sebuah sistem yang open source code, melakukan modifikasi,presentasi sistem yang telah dimodifikasi\n",
            "Nama Perusahaan : PT Pundi Mas Berjaya\n",
            "Alamat: Jl. Kw. Industri Tunas 2 No.7D, Belian, Kec. Batam Kota, Kota Batam, Kepulauan Riau 29444\n"
          ]
        }
      ],
      "source": [
        "print_description(10)"
      ]
    },
    {
      "cell_type": "markdown",
      "metadata": {
        "id": "aKUUUHpN8Q3b"
      },
      "source": [
        "## 5. TF-IDF & Cosine Similarity"
      ]
    },
    {
      "cell_type": "code",
      "execution_count": 38,
      "metadata": {
        "scrolled": false,
        "id": "G0Ul4gzG8Q3b",
        "outputId": "038a4bc0-9be2-43b3-cf7f-06e15201e0ee",
        "colab": {
          "base_uri": "https://localhost:8080/"
        }
      },
      "outputs": [
        {
          "output_type": "execute_result",
          "data": {
            "text/plain": [
              "array([[1.        , 0.        , 0.        , 0.02670802, 0.        ,\n",
              "        0.        , 0.        , 0.        , 0.        , 0.        ,\n",
              "        0.02593564, 0.00981292],\n",
              "       [0.        , 1.        , 0.        , 0.03600946, 0.        ,\n",
              "        0.        , 0.        , 0.        , 0.        , 0.        ,\n",
              "        0.        , 0.        ],\n",
              "       [0.        , 0.        , 1.        , 0.05980121, 0.01968191,\n",
              "        0.        , 0.00951774, 0.        , 0.03908196, 0.        ,\n",
              "        0.03076556, 0.01167966],\n",
              "       [0.02670802, 0.03600946, 0.05980121, 1.        , 0.02743355,\n",
              "        0.        , 0.04321972, 0.        , 0.01718847, 0.        ,\n",
              "        0.028191  , 0.0457023 ],\n",
              "       [0.        , 0.        , 0.01968191, 0.02743355, 1.        ,\n",
              "        0.        , 0.        , 0.        , 0.01241917, 0.        ,\n",
              "        0.01566642, 0.02360929],\n",
              "       [0.        , 0.        , 0.        , 0.        , 0.        ,\n",
              "        1.        , 0.01592584, 0.        , 0.        , 0.01561931,\n",
              "        0.        , 0.        ],\n",
              "       [0.        , 0.        , 0.00951774, 0.04321972, 0.        ,\n",
              "        0.01592584, 1.        , 0.03194559, 0.        , 0.04026097,\n",
              "        0.        , 0.009506  ],\n",
              "       [0.        , 0.        , 0.        , 0.        , 0.        ,\n",
              "        0.        , 0.03194559, 1.        , 0.        , 0.03133071,\n",
              "        0.        , 0.        ],\n",
              "       [0.        , 0.        , 0.03908196, 0.01718847, 0.01241917,\n",
              "        0.        , 0.        , 0.        , 1.        , 0.        ,\n",
              "        0.01840167, 0.00922406],\n",
              "       [0.        , 0.        , 0.        , 0.        , 0.        ,\n",
              "        0.01561931, 0.04026097, 0.03133071, 0.        , 1.        ,\n",
              "        0.        , 0.        ],\n",
              "       [0.02593564, 0.        , 0.03076556, 0.028191  , 0.01566642,\n",
              "        0.        , 0.        , 0.        , 0.01840167, 0.        ,\n",
              "        1.        , 0.03818347],\n",
              "       [0.00981292, 0.        , 0.01167966, 0.0457023 , 0.02360929,\n",
              "        0.        , 0.009506  , 0.        , 0.00922406, 0.        ,\n",
              "        0.03818347, 1.        ]])"
            ]
          },
          "metadata": {},
          "execution_count": 38
        }
      ],
      "source": [
        "df.set_index('Nama Perusahaan', inplace=True)\n",
        "tf = TfidfVectorizer(analyzer='word', ngram_range=(1, 3), min_df=0, stop_words='english')\n",
        "tfidf_matrix = tf.fit_transform(df['modulpembelajaran_clean'])\n",
        "cos_sim = cosine_similarity(tfidf_matrix, tfidf_matrix)\n",
        "cos_sim"
      ]
    },
    {
      "cell_type": "code",
      "execution_count": 40,
      "metadata": {
        "id": "PhuZKDnN8Q3c",
        "outputId": "ddbab303-8a13-40d8-cd1a-7c1327bacecf",
        "colab": {
          "base_uri": "https://localhost:8080/"
        }
      },
      "outputs": [
        {
          "output_type": "execute_result",
          "data": {
            "text/plain": [
              "0                             Adis Amatulia \n",
              "1                 PT Orbit Ventura Indonesia\n",
              "2          PT Hacktivate Teknologi Indonesia\n",
              "3                    PT Ruang Raya Indonesia\n",
              "4               PT BISA ARTIFISIAL INDONESIA\n",
              "5                  PT Mitra Semeru Indonesia\n",
              "6      PT. IlmuKomputerCom Braindevs Sistema\n",
              "7     PT Bank Negara Indonesia (Persero) Tbk\n",
              "8                  PT Zona Edukasi Nusantara\n",
              "9          PT Telkom Indonesia (Persero) Tbk\n",
              "10                      PT Pundi Mas Berjaya\n",
              "11              PT Inamas Sintesis Teknologi\n",
              "Name: Nama Perusahaan, dtype: object"
            ]
          },
          "metadata": {},
          "execution_count": 40
        }
      ],
      "source": [
        "# Set index utama di kolom 'name'\n",
        "indices = pd.Series(df.index)\n",
        "indices[:12]"
      ]
    },
    {
      "cell_type": "markdown",
      "metadata": {
        "id": "aZu2hdz48Q3c"
      },
      "source": [
        "## 6. Modelling"
      ]
    },
    {
      "cell_type": "code",
      "execution_count": 41,
      "metadata": {
        "id": "SfEqCYQD8Q3c"
      },
      "outputs": [],
      "source": [
        "def recommendations(name, cos_sim = cos_sim):\n",
        "    \n",
        "    recommended_kpsmerdeka = []\n",
        "    \n",
        "    # Mengambil nama hotel berdasarkan variabel indicies\n",
        "    idx = indices[indices == name].index[0]\n",
        "\n",
        "    # Membuat series berdasarkan skor kesamaan\n",
        "    score_series = pd.Series(cos_sim[idx]).sort_values(ascending = False)\n",
        "\n",
        "    # mengambil index dan dibuat 10 baris rekomendasi terbaik\n",
        "    top_10_indexes = list(score_series.iloc[1:4].index)\n",
        "    \n",
        "    for i in top_10_indexes:\n",
        "        recommended_kpsmerdeka.append(list(df.index)[i])\n",
        "        \n",
        "    return recommended_kpsmerdeka"
      ]
    },
    {
      "cell_type": "markdown",
      "metadata": {
        "scrolled": false,
        "id": "rIZ3e-0r8Q3d"
      },
      "source": [
        "## 7. Prediksi"
      ]
    },
    {
      "cell_type": "code",
      "execution_count": 50,
      "metadata": {
        "id": "gvaEhR3M8Q3d",
        "outputId": "f23d2778-2a02-4621-f363-afc91da4420e",
        "colab": {
          "base_uri": "https://localhost:8080/"
        }
      },
      "outputs": [
        {
          "output_type": "execute_result",
          "data": {
            "text/plain": [
              "['PT Ruang Raya Indonesia',\n",
              " 'PT Pundi Mas Berjaya',\n",
              " 'PT Inamas Sintesis Teknologi']"
            ]
          },
          "metadata": {},
          "execution_count": 50
        }
      ],
      "source": [
        "recommendations('Adis Amatulia ')"
      ]
    },
    {
      "cell_type": "code",
      "execution_count": 43,
      "metadata": {
        "id": "NKHx7DfR8Q3d",
        "outputId": "9bddfc30-eeb9-4fa7-f7ed-a4d8c3b2911f",
        "colab": {
          "base_uri": "https://localhost:8080/"
        }
      },
      "outputs": [
        {
          "output_type": "execute_result",
          "data": {
            "text/plain": [
              "['PT Hacktivate Teknologi Indonesia',\n",
              " 'PT Inamas Sintesis Teknologi',\n",
              " 'PT. IlmuKomputerCom Braindevs Sistema']"
            ]
          },
          "metadata": {},
          "execution_count": 43
        }
      ],
      "source": [
        "recommendations(\"PT Ruang Raya Indonesia\")"
      ]
    },
    {
      "cell_type": "code",
      "execution_count": 46,
      "metadata": {
        "id": "KBe3LSgT8Q3d",
        "outputId": "68b4d232-91c9-4500-e2c9-2d95f9e396d2",
        "colab": {
          "base_uri": "https://localhost:8080/"
        }
      },
      "outputs": [
        {
          "output_type": "execute_result",
          "data": {
            "text/plain": [
              "['PT Ruang Raya Indonesia',\n",
              " 'PT Telkom Indonesia (Persero) Tbk',\n",
              " 'PT Bank Negara Indonesia (Persero) Tbk']"
            ]
          },
          "metadata": {},
          "execution_count": 46
        }
      ],
      "source": [
        "recommendations(\"PT. IlmuKomputerCom Braindevs Sistema\")"
      ]
    },
    {
      "cell_type": "markdown",
      "metadata": {
        "id": "UU6lekzN8Q3d"
      },
      "source": [
        "# Selesai..."
      ]
    }
  ],
  "metadata": {
    "kernelspec": {
      "display_name": "Python 3",
      "language": "python",
      "name": "python3"
    },
    "language_info": {
      "codemirror_mode": {
        "name": "ipython",
        "version": 3
      },
      "file_extension": ".py",
      "mimetype": "text/x-python",
      "name": "python",
      "nbconvert_exporter": "python",
      "pygments_lexer": "ipython3",
      "version": "3.7.3"
    },
    "colab": {
      "provenance": []
    }
  },
  "nbformat": 4,
  "nbformat_minor": 0
}